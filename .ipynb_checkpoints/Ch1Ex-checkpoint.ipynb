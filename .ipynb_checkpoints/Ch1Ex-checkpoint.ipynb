{
 "cells": [
  {
   "cell_type": "markdown",
   "id": "fa4df68f",
   "metadata": {},
   "source": [
    "# Chapter 1 Ex.\n",
    "\n",
    "Problems 1, 3, 6"
   ]
  },
  {
   "cell_type": "markdown",
   "id": "2616a517",
   "metadata": {},
   "source": [
    "## Ex. 1\n",
    "Testing the \"print\" function"
   ]
  },
  {
   "cell_type": "code",
   "execution_count": 4,
   "id": "4012bc8a",
   "metadata": {},
   "outputs": [
    {
     "name": "stdout",
     "output_type": "stream",
     "text": [
      "This is a test of the Python Interpreter\n"
     ]
    }
   ],
   "source": [
    "# demonstrating print function\n",
    "print('This is a test of the Python Interpreter')"
   ]
  },
  {
   "cell_type": "code",
   "execution_count": 2,
   "id": "b4114afc",
   "metadata": {},
   "outputs": [
    {
     "name": "stdout",
     "output_type": "stream",
     "text": [
      "I think I am understanding Python!\n"
     ]
    }
   ],
   "source": [
    "print(\"I think I am understanding Python!\")"
   ]
  },
  {
   "cell_type": "code",
   "execution_count": 3,
   "id": "081eb3e7",
   "metadata": {},
   "outputs": [
    {
     "name": "stdout",
     "output_type": "stream",
     "text": [
      "Here is the number 3: 3\n"
     ]
    }
   ],
   "source": [
    "print(\"Here is the number 3:\",3)"
   ]
  },
  {
   "cell_type": "markdown",
   "id": "0c390b4e",
   "metadata": {},
   "source": [
    "## Ex. 3\n",
    "\n",
    "Converting decimal numbers to binary\n",
    "(I struggled with this section, I think I missed a step)"
   ]
  },
  {
   "cell_type": "code",
   "execution_count": 9,
   "id": "ed1ba1ef",
   "metadata": {
    "scrolled": true
   },
   "outputs": [
    {
     "name": "stdout",
     "output_type": "stream",
     "text": [
      "0b1011\n"
     ]
    }
   ],
   "source": [
    "num = 11\n",
    "x = bin(num)\n",
    "print(x)"
   ]
  },
  {
   "cell_type": "code",
   "execution_count": 10,
   "id": "342eb4ba",
   "metadata": {},
   "outputs": [
    {
     "name": "stdout",
     "output_type": "stream",
     "text": [
      "0b1000001\n"
     ]
    }
   ],
   "source": [
    "num = 65\n",
    "x = bin(num)\n",
    "print(x)"
   ]
  },
  {
   "cell_type": "code",
   "execution_count": 11,
   "id": "dba0ecfb",
   "metadata": {},
   "outputs": [
    {
     "name": "stdout",
     "output_type": "stream",
     "text": [
      "0b1100100\n"
     ]
    }
   ],
   "source": [
    "num = 100\n",
    "x = bin(num)\n",
    "print(x)"
   ]
  },
  {
   "cell_type": "code",
   "execution_count": 12,
   "id": "9c01e90f",
   "metadata": {},
   "outputs": [
    {
     "name": "stdout",
     "output_type": "stream",
     "text": [
      "0b11111111\n"
     ]
    }
   ],
   "source": [
    "num = 255\n",
    "x = bin(num)\n",
    "print(x)"
   ]
  },
  {
   "cell_type": "markdown",
   "id": "0eb8279f",
   "metadata": {},
   "source": [
    "## Ex. 6\n",
    "Answering questions about the history of Python"
   ]
  },
  {
   "cell_type": "markdown",
   "id": "850b0bc9",
   "metadata": {},
   "source": [
    "Who was the creator of Python?:\n",
    "\n",
    "Guido van Rossum is the inventor of Python."
   ]
  },
  {
   "cell_type": "markdown",
   "id": "b301dc04",
   "metadata": {},
   "source": [
    "When was Python created?:\n",
    "    \n",
    "Python was created in 1991."
   ]
  },
  {
   "cell_type": "markdown",
   "id": "88340111",
   "metadata": {},
   "source": [
    "Guido van Rossum is reffered to as \"BDFL\", what does this mean?:\n",
    " \n",
    "\"BDFL\" stands for \"Benevolent Dictator For Life.\" "
   ]
  },
  {
   "cell_type": "code",
   "execution_count": null,
   "id": "6ae58a25",
   "metadata": {},
   "outputs": [],
   "source": []
  }
 ],
 "metadata": {
  "kernelspec": {
   "display_name": "Python 3 (ipykernel)",
   "language": "python",
   "name": "python3"
  },
  "language_info": {
   "codemirror_mode": {
    "name": "ipython",
    "version": 3
   },
   "file_extension": ".py",
   "mimetype": "text/x-python",
   "name": "python",
   "nbconvert_exporter": "python",
   "pygments_lexer": "ipython3",
   "version": "3.11.5"
  }
 },
 "nbformat": 4,
 "nbformat_minor": 5
}
